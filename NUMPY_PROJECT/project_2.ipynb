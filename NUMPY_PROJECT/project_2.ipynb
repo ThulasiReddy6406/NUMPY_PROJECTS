{
 "cells": [
  {
   "cell_type": "markdown",
   "id": "bd9ff6d9",
   "metadata": {},
   "source": [
    "Weather Data Report"
   ]
  },
  {
   "cell_type": "code",
   "execution_count": null,
   "id": "a28cfc38",
   "metadata": {},
   "outputs": [],
   "source": [
    "import pandas as pd"
   ]
  },
  {
   "cell_type": "code",
   "execution_count": 24,
   "id": "d92fbcbe",
   "metadata": {},
   "outputs": [
    {
     "name": "stdout",
     "output_type": "stream",
     "text": [
      "         Day  Temperature  Rainfall  WindSpeed\n",
      "0 2025-08-01         32.0       5.0       12.0\n",
      "1 2025-08-02         34.0      12.0       15.0\n",
      "2 2025-08-03         30.0       0.0       10.0\n",
      "3 2025-08-04         29.0      20.0        NaN\n",
      "4 2025-08-05         31.0       8.0       14.0\n",
      "5 2025-08-06         33.0       NaN       11.0\n",
      "6 2025-08-07         28.0      15.0       20.0\n",
      "7 2025-08-08          NaN       7.0       16.0\n",
      "8 2025-08-09         35.0       0.0       13.0\n",
      "9 2025-08-10         30.0      25.0       19.0\n",
      "--------HOTEST DAY---------\n",
      "Day            2025-08-09 00:00:00\n",
      "Temperature                   35.0\n",
      "Rainfall                       0.0\n",
      "WindSpeed                     13.0\n",
      "Name: 8, dtype: object\n",
      "------coldest day-----------\n",
      "Day            2025-08-07 00:00:00\n",
      "Temperature                   28.0\n",
      "Rainfall                      15.0\n",
      "WindSpeed                     20.0\n",
      "Name: 6, dtype: object\n",
      "---------RAINFALL > 10MM---------\n",
      "         Day  Temperature  Rainfall  WindSpeed\n",
      "1 2025-08-02         34.0      12.0       15.0\n",
      "3 2025-08-04         29.0      20.0        NaN\n",
      "6 2025-08-07         28.0      15.0       20.0\n",
      "9 2025-08-10         30.0      25.0       19.0\n",
      "--------Replace missing values-------\n",
      "         Day  Temperature  Rainfall  WindSpeed\n",
      "0 2025-08-01         32.0       5.0       12.0\n",
      "1 2025-08-02         34.0      12.0       15.0\n",
      "2 2025-08-03         30.0       0.0       10.0\n",
      "3 2025-08-04         29.0      20.0      999.0\n",
      "4 2025-08-05         31.0       8.0       14.0\n",
      "5 2025-08-06         33.0     999.0       11.0\n",
      "6 2025-08-07         28.0      15.0       20.0\n",
      "7 2025-08-08        999.0       7.0       16.0\n",
      "8 2025-08-09         35.0       0.0       13.0\n",
      "9 2025-08-10         30.0      25.0       19.0\n",
      "     Day  Temperature  Rainfall  WindSpeed\n",
      "0  False        False     False      False\n",
      "1  False        False     False      False\n",
      "2  False        False     False      False\n",
      "3  False        False     False       True\n",
      "4  False        False     False      False\n",
      "5  False        False      True      False\n",
      "6  False        False     False      False\n",
      "7  False         True     False      False\n",
      "8  False        False     False      False\n",
      "9  False        False     False      False\n",
      "         Day  Temperature  Rainfall  WindSpeed\n",
      "0 2025-08-01         32.0       5.0       12.0\n",
      "1 2025-08-02         34.0      12.0       15.0\n",
      "2 2025-08-03         30.0       0.0       10.0\n",
      "4 2025-08-05         31.0       8.0       14.0\n",
      "6 2025-08-07         28.0      15.0       20.0\n",
      "8 2025-08-09         35.0       0.0       13.0\n",
      "9 2025-08-10         30.0      25.0       19.0\n"
     ]
    }
   ],
   "source": [
    "data = {\n",
    "    \"Day\": pd.date_range(start=\"2025-08-01\", periods=10, freq=\"D\"),\n",
    "    \"Temperature\": [32, 34, 30, 29, 31, 33, 28, None, 35, 30],\n",
    "    \"Rainfall\": [5, 12, 0, 20, 8, None, 15, 7, 0, 25],\n",
    "    \"WindSpeed\": [12, 15, 10, None, 14, 11, 20, 16, 13, 19]\n",
    "}\n",
    "\n",
    "df = pd.DataFrame(data)\n",
    "print(df)\n",
    "print(\"--------HOTEST DAY---------\")\n",
    "hot_day = df.loc[df['Temperature'].idxmax()]\n",
    "print(hot_day)\n",
    "print(\"------coldest day-----------\")\n",
    "cold_day = df.loc[df[\"Temperature\"].idxmin()]\n",
    "print(cold_day)\n",
    "print(\"---------RAINFALL > 10MM---------\")\n",
    "hig_falls = df[df[\"Rainfall\"]>10]\n",
    "print(hig_falls)\n",
    "print(\"--------Replace missing values-------\")\n",
    "rep_pla = df.fillna(999)\n",
    "print(rep_pla)\n",
    "null_values = df.isnull()\n",
    "print(null_values)\n",
    "remove_null = df.dropna()\n",
    "print(remove_null)\n",
    "\n"
   ]
  }
 ],
 "metadata": {
  "kernelspec": {
   "display_name": ".venv",
   "language": "python",
   "name": "python3"
  },
  "language_info": {
   "codemirror_mode": {
    "name": "ipython",
    "version": 3
   },
   "file_extension": ".py",
   "mimetype": "text/x-python",
   "name": "python",
   "nbconvert_exporter": "python",
   "pygments_lexer": "ipython3",
   "version": "3.13.5"
  }
 },
 "nbformat": 4,
 "nbformat_minor": 5
}
