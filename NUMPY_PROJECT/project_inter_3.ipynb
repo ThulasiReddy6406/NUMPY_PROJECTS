{
 "cells": [
  {
   "cell_type": "markdown",
   "id": "db9a9203",
   "metadata": {},
   "source": [
    "Bank Transactions Data"
   ]
  },
  {
   "cell_type": "code",
   "execution_count": 1,
   "id": "a81c7793",
   "metadata": {},
   "outputs": [],
   "source": [
    "import pandas as pd"
   ]
  },
  {
   "cell_type": "code",
   "execution_count": 12,
   "id": "a0334862",
   "metadata": {},
   "outputs": [
    {
     "name": "stdout",
     "output_type": "stream",
     "text": [
      "   AccountNo       Date  Amount    Type\n",
      "0       1001 2025-01-01    5000  Credit\n",
      "1       1001 2025-01-02   -2000   Debit\n",
      "2       1001 2025-01-03   -1000   Debit\n",
      "3       1002 2025-01-04   10000  Credit\n",
      "4       1002 2025-01-05   -5000   Debit\n",
      "5       1003 2025-01-06    7000  Credit\n",
      "6       1003 2025-01-07   -2000   Debit\n",
      "7       1003 2025-01-08   -3000   Debit\n",
      "8       1003 2025-01-09    4000  Credit\n",
      "9       1004 2025-01-10   -6000   Debit\n",
      "     TYPE  AMOUNT\n",
      "0  Credit   26000\n",
      "1   Debit  -19000\n",
      "   index         TYPE  AMOUNT\n",
      "0      0       Credit   26000\n",
      "1      1  CreditDebit    7000\n",
      "   AccountNo       Date  Amount    Type  RunningBalance\n",
      "0       1001 2025-01-01    5000  Credit            5000\n",
      "1       1001 2025-01-02   -2000   Debit            3000\n",
      "2       1001 2025-01-03   -1000   Debit            2000\n",
      "3       1002 2025-01-04   10000  Credit           10000\n",
      "4       1002 2025-01-05   -5000   Debit            5000\n",
      "5       1003 2025-01-06    7000  Credit            7000\n",
      "6       1003 2025-01-07   -2000   Debit            5000\n",
      "7       1003 2025-01-08   -3000   Debit            2000\n",
      "8       1003 2025-01-09    4000  Credit            6000\n",
      "9       1004 2025-01-10   -6000   Debit           -6000\n",
      "   AccountNo       Date  Amount   Type  RunningBalance\n",
      "9       1004 2025-01-10   -6000  Debit           -6000\n"
     ]
    }
   ],
   "source": [
    "import pandas as pd\n",
    "\n",
    "data = {\n",
    "    \"AccountNo\": [1001,1001,1001,1002,1002,1003,1003,1003,1003,1004],\n",
    "    \"Date\": pd.date_range(\"2025-01-01\", periods=10, freq=\"D\"),\n",
    "    \"Amount\": [5000, -2000, -1000, 10000, -5000, 7000, -2000, -3000, 4000, -6000],\n",
    "    \"Type\": [\"Credit\",\"Debit\",\"Debit\",\"Credit\",\"Debit\",\"Credit\",\"Debit\",\"Debit\",\"Credit\",\"Debit\"]\n",
    "}\n",
    "\n",
    "df = pd.DataFrame(data)\n",
    "print(df)\n",
    "\n",
    "tcd = df.groupby(\"Type\")[\"Amount\"].sum().reset_index()\n",
    "tcd.columns = [\"TYPE\",\"AMOUNT\"]\n",
    "print(tcd)\n",
    "d = tcd.cumsum().reset_index()\n",
    "print(d)\n",
    "df[\"RunningBalance\"] = df.groupby(\"AccountNo\")[\"Amount\"].cumsum()\n",
    "print(df)\n",
    "n_v = df[df[\"RunningBalance\"]<0]\n",
    "print(n_v)"
   ]
  }
 ],
 "metadata": {
  "kernelspec": {
   "display_name": ".venv",
   "language": "python",
   "name": "python3"
  },
  "language_info": {
   "codemirror_mode": {
    "name": "ipython",
    "version": 3
   },
   "file_extension": ".py",
   "mimetype": "text/x-python",
   "name": "python",
   "nbconvert_exporter": "python",
   "pygments_lexer": "ipython3",
   "version": "3.13.5"
  }
 },
 "nbformat": 4,
 "nbformat_minor": 5
}
