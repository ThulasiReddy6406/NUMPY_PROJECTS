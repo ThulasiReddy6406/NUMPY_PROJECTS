{
 "cells": [
  {
   "cell_type": "markdown",
   "id": "0462b5f7",
   "metadata": {},
   "source": [
    "# 1. Student Database"
   ]
  },
  {
   "cell_type": "code",
   "execution_count": 3,
   "id": "3744c64a",
   "metadata": {},
   "outputs": [],
   "source": [
    "import pandas as pd"
   ]
  },
  {
   "cell_type": "code",
   "execution_count": 34,
   "id": "dc217a89",
   "metadata": {},
   "outputs": [
    {
     "name": "stdout",
     "output_type": "stream",
     "text": [
      "     Names  Age  Python_marks  Java\n",
      "0  Thulasi   19            90  50.0\n",
      "1  Hemanth   20            80  56.0\n",
      "2     Jack   20            70  78.0\n",
      "3    Pawan   20            60  89.0\n",
      "4    Mouli   20            50   NaN\n",
      "TOPPER\n",
      "Names           Thulasi\n",
      "Age                  19\n",
      "Python_marks         90\n",
      "Java               50.0\n",
      "Name: 0, dtype: object\n",
      "Names           Pawan\n",
      "Age                20\n",
      "Python_marks       60\n",
      "Java             89.0\n",
      "Name: 3, dtype: object\n",
      "SORT STUDENTS\n",
      "     Names  Age  Python_marks  Java\n",
      "0  Thulasi   19            90  50.0\n",
      "1  Hemanth   20            80  56.0\n",
      "2     Jack   20            70  78.0\n",
      "3    Pawan   20            60  89.0\n",
      "4    Mouli   20            50   NaN\n",
      "     Names  Age  Python_marks    Java\n",
      "0  Thulasi   19            90    50.0\n",
      "1  Hemanth   20            80    56.0\n",
      "2     Jack   20            70    78.0\n",
      "3    Pawan   20            60    89.0\n",
      "4    Mouli   20            50  9999.0\n",
      "     Names  Age  Python_marks   Java\n",
      "0  Thulasi   19            90   50.0\n",
      "1  Hemanth   20            80   56.0\n",
      "2     Jack   20            70   78.0\n",
      "3    Pawan   20            60   89.0\n",
      "4    Mouli   20            50  273.0\n"
     ]
    },
    {
     "name": "stderr",
     "output_type": "stream",
     "text": [
      "C:\\Users\\Thula\\AppData\\Local\\Temp\\ipykernel_10264\\3238881736.py:21: FutureWarning: A value is trying to be set on a copy of a DataFrame or Series through chained assignment using an inplace method.\n",
      "The behavior will change in pandas 3.0. This inplace method will never work because the intermediate object on which we are setting values always behaves as a copy.\n",
      "\n",
      "For example, when doing 'df[col].method(value, inplace=True)', try using 'df.method({col: value}, inplace=True)' or df[col] = df[col].method(value) instead, to perform the operation inplace on the original object.\n",
      "\n",
      "\n",
      "  df[\"Java\"].fillna(df[\"Java\"].sum(), inplace=True)\n"
     ]
    }
   ],
   "source": [
    "student_database = {\n",
    "    \"Names\" : [\"Thulasi\",\"Hemanth\",\"Jack\",\"Pawan\",\"Mouli\"],\n",
    "    \"Age\" : [19,20,20,20,20],\n",
    "    \"Python_marks\" : [90,80,70,60,50],\n",
    "    \"Java\":[50,56,78,89,None]\n",
    "}\n",
    "\n",
    "df = pd.DataFrame(student_database)\n",
    "print(df)\n",
    "print(\"TOPPER\")\n",
    "s = df.loc[df[\"Python_marks\"].idxmax()]\n",
    "print(s)\n",
    "\n",
    "se = df.loc[df[\"Java\"].idxmax()]\n",
    "print(se)\n",
    "print(\"SORT STUDENTS\")\n",
    "d = df.sort_values(\"Age\",ascending=True)\n",
    "print(d)\n",
    "n = df.fillna(9999)\n",
    "print(n)\n",
    "df[\"Java\"].fillna(df[\"Java\"].sum(), inplace=True)\n",
    "print(df)\n"
   ]
  }
 ],
 "metadata": {
  "kernelspec": {
   "display_name": ".venv",
   "language": "python",
   "name": "python3"
  },
  "language_info": {
   "codemirror_mode": {
    "name": "ipython",
    "version": 3
   },
   "file_extension": ".py",
   "mimetype": "text/x-python",
   "name": "python",
   "nbconvert_exporter": "python",
   "pygments_lexer": "ipython3",
   "version": "3.13.5"
  }
 },
 "nbformat": 4,
 "nbformat_minor": 5
}
