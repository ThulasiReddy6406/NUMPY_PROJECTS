{
 "cells": [
  {
   "cell_type": "markdown",
   "id": "de836192",
   "metadata": {},
   "source": [
    "Movie Ratings Dataset"
   ]
  },
  {
   "cell_type": "code",
   "execution_count": 1,
   "id": "d8ee8d1f",
   "metadata": {},
   "outputs": [],
   "source": [
    "import pandas as pd"
   ]
  },
  {
   "cell_type": "code",
   "execution_count": 13,
   "id": "fde3896b",
   "metadata": {},
   "outputs": [
    {
     "name": "stdout",
     "output_type": "stream",
     "text": [
      "                       Movie  Year    Genre  Rating  BoxOffice_Cr\n",
      "0                        RRR  2022   Action     8.0          1200\n",
      "1           Pushpa: The Rise  2021   Action     7.6           365\n",
      "2   Baahubali: The Beginning  2015     Epic     8.1           650\n",
      "3  Baahubali: The Conclusion  2017     Epic     8.2          1800\n",
      "4    Ala Vaikunthapurramuloo  2020   Family     7.3           260\n",
      "5                Arjun Reddy  2017  Romance     8.0            85\n",
      "6                     Jersey  2019   Sports     8.5            75\n",
      "7                Srimanthudu  2015    Drama     7.6           150\n",
      "8                       Eega  2012  Fantasy     7.7           125\n",
      "9                 Magadheera  2009   Action     8.1           150\n",
      "------HIGH-RATED-MOVIE------\n",
      "                       Movie    Genre  Rating\n",
      "9                 Magadheera   Action     8.1\n",
      "7                Srimanthudu    Drama     7.6\n",
      "3  Baahubali: The Conclusion     Epic     8.2\n",
      "4    Ala Vaikunthapurramuloo   Family     7.3\n",
      "8                       Eega  Fantasy     7.7\n",
      "5                Arjun Reddy  Romance     8.0\n",
      "6                     Jersey   Sports     8.5\n",
      "-------SORT BY MOVIE_RATING------\n",
      "                       Movie  Year    Genre  Rating  BoxOffice_Cr\n",
      "6                     Jersey  2019   Sports     8.5            75\n",
      "3  Baahubali: The Conclusion  2017     Epic     8.2          1800\n",
      "9                 Magadheera  2009   Action     8.1           150\n",
      "2   Baahubali: The Beginning  2015     Epic     8.1           650\n",
      "5                Arjun Reddy  2017  Romance     8.0            85\n",
      "0                        RRR  2022   Action     8.0          1200\n",
      "8                       Eega  2012  Fantasy     7.7           125\n",
      "1           Pushpa: The Rise  2021   Action     7.6           365\n",
      "7                Srimanthudu  2015    Drama     7.6           150\n",
      "4    Ala Vaikunthapurramuloo  2020   Family     7.3           260\n",
      "         Rating\n",
      "Genre          \n",
      "Action      8.1\n",
      "Drama       7.6\n",
      "Epic        8.2\n",
      "Family      7.3\n",
      "Fantasy     7.7\n",
      "Romance     8.0\n",
      "Sports      8.5\n"
     ]
    }
   ],
   "source": [
    "import pandas as pd\n",
    "\n",
    "data = {\n",
    "    \"Movie\": [\n",
    "        \"RRR\", \"Pushpa: The Rise\", \"Baahubali: The Beginning\",\n",
    "        \"Baahubali: The Conclusion\", \"Ala Vaikunthapurramuloo\",\n",
    "        \"Arjun Reddy\", \"Jersey\", \"Srimanthudu\", \"Eega\", \"Magadheera\"\n",
    "    ],\n",
    "    \"Year\": [2022, 2021, 2015, 2017, 2020, 2017, 2019, 2015, 2012, 2009],\n",
    "    \"Genre\": [\"Action\", \"Action\", \"Epic\", \"Epic\", \"Family\", \"Romance\", \"Sports\", \"Drama\", \"Fantasy\", \"Action\"],\n",
    "    \"Rating\": [8.0, 7.6, 8.1, 8.2, 7.3, 8.0, 8.5, 7.6, 7.7, 8.1],\n",
    "    \"BoxOffice_Cr\": [1200, 365, 650, 1800, 260, 85, 75, 150, 125, 150]\n",
    "}\n",
    "\n",
    "df = pd.DataFrame(data)\n",
    "print(df)\n",
    "p = df.to_csv(\"movie_database.csv\")\n",
    "print(\"------HIGH-RATED-MOVIE------\")\n",
    "hrm = df.groupby('Genre')['Rating'].idxmax()\n",
    "hrm_mov = df.loc[hrm]\n",
    "print(hrm_mov[['Movie','Genre','Rating']])\n",
    "print(\"-------SORT BY MOVIE_RATING------\")\n",
    "s = df.sort_values('Rating',ascending=False)\n",
    "print(s)\n",
    "e = pd.pivot_table(df,values=\"Rating\",index=\"Genre\",aggfunc=\"max\")\n",
    "print(e)"
   ]
  }
 ],
 "metadata": {
  "kernelspec": {
   "display_name": ".venv",
   "language": "python",
   "name": "python3"
  },
  "language_info": {
   "codemirror_mode": {
    "name": "ipython",
    "version": 3
   },
   "file_extension": ".py",
   "mimetype": "text/x-python",
   "name": "python",
   "nbconvert_exporter": "python",
   "pygments_lexer": "ipython3",
   "version": "3.13.5"
  }
 },
 "nbformat": 4,
 "nbformat_minor": 5
}
